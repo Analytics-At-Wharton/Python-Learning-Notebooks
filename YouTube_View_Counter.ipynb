{
  "nbformat": 4,
  "nbformat_minor": 0,
  "metadata": {
    "colab": {
      "provenance": []
    },
    "kernelspec": {
      "name": "python3",
      "display_name": "Python 3"
    },
    "language_info": {
      "name": "python"
    }
  },
  "cells": [
    {
      "cell_type": "markdown",
      "source": [
        "# **[Analytics at Wharton](https://analytics.wharton.upenn.edu/): Automation Task, Obtain Views on each Video of a Youtube Playlist.**\n",
        "\n",
        "## **Notebook Creator:** [Jaden Dicopoulos](https://www.linkedin.com/in/jaden-dicopoulos/)\n",
        "\n",
        "### [**link to live Notebook**](https://colab.research.google.com/drive/1T1dFwmIFCamDFyuGsKw6U7ejBhyI5ISM?usp=sharing)\n",
        "\n",
        "In this Notebook you will be able to add a playlist id for a YouTube playlist to retrieve the view count for each video in that playlist. Additional parameters can be added to enhance the dataset. The dataset will be stored in a CSV file."
      ],
      "metadata": {
        "id": "VBQgEjR2GkNb"
      }
    },
    {
      "cell_type": "code",
      "source": [
        "# Input the playlist ID, found at the end of a youtube video, link should look like this PL0EdWFC9ZZrXFJSd8EQXB3WL89Esv1okf\n",
        "playlist_id = 'PL0EdWFC9ZZrUCPEiR7mzCj0iEW82vMHZX'\n",
        "\n",
        "from googleapiclient.discovery import build\n",
        "import pandas as pd\n",
        "\n",
        "def get_playlist_videos_details(api_key, playlist_id):\n",
        "    youtube = build('youtube', 'v3', developerKey=api_key)\n",
        "\n",
        "    # Fetch playlist name\n",
        "    playlist_response = youtube.playlists().list(\n",
        "        id=playlist_id,\n",
        "        part='snippet'\n",
        "    ).execute()\n",
        "\n",
        "    playlist_name = playlist_response['items'][0]['snippet']['title']\n",
        "\n",
        "    playlist_items_response = youtube.playlistItems().list(\n",
        "        playlistId=playlist_id,\n",
        "        part='contentDetails',\n",
        "        maxResults=50  # Adjust based on your needs\n",
        "    ).execute()\n",
        "\n",
        "    video_ids = [item['contentDetails']['videoId'] for item in playlist_items_response['items']]\n",
        "    videos_details = []\n",
        "\n",
        "    for video_id in video_ids:\n",
        "        video_response = youtube.videos().list(\n",
        "            id=video_id,\n",
        "            part='snippet,statistics'\n",
        "        ).execute()\n",
        "\n",
        "        if video_response['items']:  # Check if the list is not empty\n",
        "          video_details = video_response['items'][0]\n",
        "          title = video_details['snippet']['title']\n",
        "          view_count = video_details['statistics']['viewCount']\n",
        "          # Add other details you're interested in here\n",
        "          videos_details.append((title, view_count))\n",
        "          # Append these details to your list or DataFrame\n",
        "        else:\n",
        "        # Handle the case where the video details could not be fetched\n",
        "          print(f\"Details for video ID {video_id} could not be fetched.\")\n",
        "\n",
        "    return pd.DataFrame(videos_details, columns=['Title', 'Views']), playlist_name\n",
        "\n",
        "# Example usage\n",
        "\n",
        "from google.colab import userdata\n",
        "\n",
        "api_key = userdata.get('YoutubeAPI')\n",
        "df_videos, df_title = get_playlist_videos_details(api_key, playlist_id)\n",
        "print(df_title, '\\n', df_videos)\n",
        "\n",
        "# save the dataframe as a csv\n",
        "df_videos.to_csv('YouTube playlist ' + df_title + '.csv', index=False)"
      ],
      "metadata": {
        "colab": {
          "base_uri": "https://localhost:8080/"
        },
        "id": "tjmdwQ21E35p",
        "outputId": "1449bc43-41c5-4802-e656-67a2800ae2cd"
      },
      "execution_count": null,
      "outputs": [
        {
          "output_type": "stream",
          "name": "stdout",
          "text": [
            "2022 Wharton Future of Work Conference \n",
            "                                                 Title  Views\n",
            "0   Adam Grant & Erika James: 2022 Wharton Future ...   1983\n",
            "1   Satya Nadella & Adam Grant: Why Managers Matte...  17285\n",
            "2   Nick Bloom & Anne Helen Petersen: Adapting to ...   1490\n",
            "3   Allison Gabriel: Zoom Fatigue and the Science ...    825\n",
            "4   Carol Dweck & Angela Duckworth: Individual & O...  16131\n",
            "5   Q&A: Angela Duckworth on How to Practice Growt...   9847\n",
            "6   Dan Pink: If Only – The Power of Regret | 2022...    899\n",
            "7   John Amaechi & Alicia Menendez: Making Work Mo...   1472\n",
            "8   Q&A: John Amaechi & Adam Grant Discuss Future ...   1667\n",
            "9   Charles Duhigg & Chike Aguh: Hiring for Talent...    677\n",
            "10  Zeynep Ton & Cade Massey: Creating Good Jobs i...   1244\n",
            "11  Andrea Jones-Rooy: A Message from the Future a...   1284\n",
            "12  Charlotte Lockhart & James Suzman: Future of t...    507\n",
            "13  2022 Wharton Future of Work Conference Forecas...    352\n",
            "14  Malcolm Gladwell & Adam Grant: Getting Uncomfo...  52208\n",
            "15  Adam Grant & Cade Massey: 2022 Wharton Future ...   1579\n",
            "16  2022 Case Competition Finalists | Wharton Peop...   2798\n",
            "17  Case Competition Winners | Team PA Lions (Colu...   4834\n"
          ]
        }
      ]
    }
  ]
}